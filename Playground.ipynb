{
 "cells": [
  {
   "cell_type": "code",
   "execution_count": 2,
   "metadata": {},
   "outputs": [],
   "source": [
    "# Library\n",
    "from base import S1_CENTERS_FILE\n",
    "from pandas import read_csv, DataFrame\n",
    "from tqdm import tqdm\n",
    "\n",
    "# Read Data\n",
    "triangles:DataFrame = read_csv(S1_CENTERS_FILE)\n"
   ]
  },
  {
   "cell_type": "code",
   "execution_count": 3,
   "metadata": {},
   "outputs": [],
   "source": [
    "# #############################################################################\n",
    "# Algo\n",
    "# #############################################################################\n",
    "from sklearn.cluster import MeanShift, estimate_bandwidth\n",
    "from numpy import percentile, array\n",
    "from pandas import DataFrame, Series\n",
    "\n",
    "# Get Just the centers\n",
    "triangle_centers = triangles[['centroid_x','centroid_y','centroid_z']].as_matrix()\n",
    "\n",
    "# Compute bandwidth for clustering with MeanShift\n",
    "bandwidth = estimate_bandwidth(triangle_centers, quantile=0.025, n_samples=200)\n",
    "\n",
    "# clustering with MeanShift\n",
    "ms = MeanShift(bandwidth=bandwidth, bin_seeding=True)\n",
    "ms.fit(triangle_centers)\n",
    "\n",
    "# Grab Cluster Labels\n",
    "triangles['ms_middle'] = Series(ms.labels_, index=triangles.index)\n",
    "\n",
    "# Attach Cluster Centers\n",
    "centers_and_clusters = triangles.merge( \n",
    "    DataFrame(ms.cluster_centers_, columns=['ms_x','ms_y','ms_z']), \n",
    "    left_on='ms_middle', \n",
    "    right_index=True \n",
    ")"
   ]
  },
  {
   "cell_type": "code",
   "execution_count": 4,
   "metadata": {},
   "outputs": [],
   "source": [
    "# Compute Distances\n",
    "cx = centers_and_clusters['centroid_x']\n",
    "cy = centers_and_clusters['centroid_y']\n",
    "cz = centers_and_clusters['centroid_z']\n",
    "\n",
    "msx = centers_and_clusters['ms_x']\n",
    "msy = centers_and_clusters['ms_y']\n",
    "msz = centers_and_clusters['ms_z']\n",
    "\n",
    "# Get Ready to plot\n",
    "size = DataFrame({\n",
    "    'ms_dist': (((cx-msx)**2) + ((cy-msy)**2)  + ((cz-msz)**2))**0.5,\n",
    "    'ms_middle': ms.labels_\n",
    "}).groupby(['ms_middle'])['ms_dist'].max()"
   ]
  },
  {
   "cell_type": "code",
   "execution_count": 15,
   "metadata": {},
   "outputs": [
    {
     "data": {
      "text/plain": [
       "7.828923720082757"
      ]
     },
     "execution_count": 15,
     "metadata": {},
     "output_type": "execute_result"
    }
   ],
   "source": [
    "colors[size > percentile(size, q = 75)] = 'red'\n",
    "size = 1000*size/max(size)\n"
   ]
  },
  {
   "cell_type": "code",
   "execution_count": null,
   "metadata": {},
   "outputs": [],
   "source": []
  }
 ],
 "metadata": {
  "kernelspec": {
   "display_name": "Python 3",
   "language": "python",
   "name": "python3"
  },
  "language_info": {
   "codemirror_mode": {
    "name": "ipython",
    "version": 3
   },
   "file_extension": ".py",
   "mimetype": "text/x-python",
   "name": "python",
   "nbconvert_exporter": "python",
   "pygments_lexer": "ipython3",
   "version": "3.6.4"
  }
 },
 "nbformat": 4,
 "nbformat_minor": 2
}
