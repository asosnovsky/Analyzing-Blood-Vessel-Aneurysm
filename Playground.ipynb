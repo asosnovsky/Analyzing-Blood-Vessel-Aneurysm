{
 "cells": [
  {
   "cell_type": "code",
   "execution_count": 1,
   "metadata": {},
   "outputs": [],
   "source": [
    "# Library\n",
    "from base import S3_SELECTED_CLUSTERS\n",
    "from pandas import read_csv, DataFrame\n",
    "from numpy import array, percentile\n",
    "from tqdm import tqdm\n",
    "\n",
    "# Read csv\n",
    "\n",
    "clusters_and_centers:DataFrame = read_csv(S3_SELECTED_CLUSTERS)"
   ]
  },
  {
   "cell_type": "code",
   "execution_count": 4,
   "metadata": {},
   "outputs": [
    {
     "data": {
      "text/plain": [
       "MeanShift(bandwidth=1, bin_seeding=True, cluster_all=True, min_bin_freq=1,\n",
       "     n_jobs=1, seeds=None)"
      ]
     },
     "execution_count": 4,
     "metadata": {},
     "output_type": "execute_result"
    }
   ],
   "source": [
    "\n",
    "triangle_centers = clusters_and_centers[['centroid_x','centroid_y','centroid_z']].as_matrix()\n",
    "\n",
    "# clustering with MeanShift\n",
    "from sklearn.cluster import MeanShift\n",
    "ms = MeanShift(bandwidth=1, bin_seeding=True)\n",
    "ms.fit(\n",
    "    clusters_and_centers[['centroid_x','centroid_y','centroid_z']].as_matrix()\n",
    ")"
   ]
  },
  {
   "cell_type": "code",
   "execution_count": 7,
   "metadata": {},
   "outputs": [
    {
     "data": {
      "text/plain": [
       "AgglomerativeClustering(affinity='euclidean', compute_full_tree='auto',\n",
       "            connectivity=None, linkage='ward', memory=None, n_clusters=20,\n",
       "            pooling_func=<function mean at 0x7f581418b1e0>)"
      ]
     },
     "execution_count": 7,
     "metadata": {},
     "output_type": "execute_result"
    }
   ],
   "source": [
    "from sklearn.cluster import AgglomerativeClustering\n",
    "agc = AgglomerativeClustering(n_clusters=20)\n",
    "agc.fit(\n",
    "    clusters_and_centers[['centroid_x','centroid_y','centroid_z']].as_matrix()\n",
    ")"
   ]
  },
  {
   "cell_type": "code",
   "execution_count": 11,
   "metadata": {},
   "outputs": [
    {
     "data": {
      "text/plain": [
       "array([[  159,   160],\n",
       "       [ 5843,  6039],\n",
       "       [ 5867,  6061],\n",
       "       ...,\n",
       "       [22347, 22348],\n",
       "       [22349, 22353],\n",
       "       [22354, 22355]])"
      ]
     },
     "execution_count": 11,
     "metadata": {},
     "output_type": "execute_result"
    }
   ],
   "source": [
    "agc.children_"
   ]
  }
 ],
 "metadata": {
  "kernelspec": {
   "display_name": "Python 3",
   "language": "python",
   "name": "python3"
  },
  "language_info": {
   "codemirror_mode": {
    "name": "ipython",
    "version": 3
   },
   "file_extension": ".py",
   "mimetype": "text/x-python",
   "name": "python",
   "nbconvert_exporter": "python",
   "pygments_lexer": "ipython3",
   "version": "3.6.4"
  }
 },
 "nbformat": 4,
 "nbformat_minor": 2
}
